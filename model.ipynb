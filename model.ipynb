{
 "cells": [
  {
   "cell_type": "code",
   "execution_count": null,
   "outputs": [],
   "source": [
    "!git clone https://github.com/ultralytics/yolov5\n",
    "%cd yolov5\n",
    "!pip install -r yolov5/requirements.txt"
   ],
   "metadata": {
    "collapsed": false
   }
  },
  {
   "cell_type": "markdown",
   "source": [
    "## Roboflow100\n",
    "\n",
    "After cloning yolov5, please add `augmentations.py` in its repository to enable the RRA operation during the training"
   ],
   "metadata": {
    "collapsed": false
   }
  },
  {
   "cell_type": "code",
   "execution_count": null,
   "outputs": [],
   "source": [
    "# !git clone https://github.com/roboflow-ai/roboflow-100-benchmark.git\n",
    "# %cd /roboflow-100-benchmark/\n",
    "# !git submodule update --init --recursive\n",
    "#\n",
    "# %env ROBOFLOW_API_KEY=<>\n",
    "#\n",
    "# %cd /roboflow-100-benchmark/\n",
    "# !scripts/download_datasets.sh -f yolov5 -l /rf100/ # The dataset is saved in your local drive"
   ],
   "metadata": {
    "collapsed": false
   }
  },
  {
   "cell_type": "code",
   "execution_count": null,
   "outputs": [],
   "source": [
    "%time\n",
    "import os\n",
    "import shutil\n",
    "import random\n",
    "\n",
    "def delete(dir_path):\n",
    "    try:\n",
    "        shutil.rmtree(dir_path, ignore_errors=True)\n",
    "    except:\n",
    "        print(\"Failed to delete directory.\")\n",
    "\n",
    "def count(dir_path):\n",
    "    files = os.listdir(dir_path)\n",
    "    num_files = len(files)\n",
    "\n",
    "    print(\"Total number of files in the directory:\", num_files)\n",
    "\n",
    "\n",
    "def train_new(size, train_image_folder, selected_train_folder, train_label_folder):\n",
    "    image_files = os.listdir(train_image_folder)\n",
    "\n",
    "    selected_image_files = random.sample(image_files, size)\n",
    "\n",
    "    selected_image_folder = os.path.join(selected_train_folder, 'images')\n",
    "    selected_label_folder = os.path.join(selected_train_folder, 'labels')\n",
    "\n",
    "    os.makedirs(selected_image_folder, exist_ok=True)\n",
    "    os.makedirs(selected_label_folder, exist_ok=True)\n",
    "\n",
    "    for image_file in selected_image_files:\n",
    "        label_file = image_file.replace('.jpg', '.txt')\n",
    "        shutil.copy(os.path.join(train_image_folder, image_file), selected_image_folder)\n",
    "        shutil.copy(os.path.join(train_label_folder, label_file), selected_label_folder)"
   ],
   "metadata": {
    "collapsed": false
   }
  },
  {
   "cell_type": "code",
   "execution_count": null,
   "outputs": [],
   "source": [
    "#!pip install albumentations\n",
    "#%cd yolov5\n",
    "\n",
    "random.seed(736720)\n",
    "dataset = \"DATA LOCATION\"\n",
    "\n",
    "dir_path = f\"{dataset}/train\"\n",
    "train_image_folder = f\"{dataset}/train_ori/images\"\n",
    "train_label_folder = f\"{dataset}/train_ori/labels\"\n",
    "selected_train_folder = f\"{dataset}/train\"\n",
    "\n",
    "file = 1000 #total training images\n",
    "\n",
    "# Test 1\n",
    "size = int(file* 0.3)\n",
    "train_new(size, train_image_folder, selected_train_folder, train_label_folder)\n",
    "!python train.py --img 640 --batch 32 --epochs 100 --name $dataset/results --data $dataset/data.yaml --hyp hyp-rf100.yaml  --weights 'yolov5s.pt' |& tee $dataset/logs1.txt\n",
    "\n",
    "# Test 2\n",
    "size = int(file* 0.5)\n",
    "delete(dir_path)\n",
    "train_new(size, train_image_folder, selected_train_folder, train_label_folder)\n",
    "!python train.py --img 640 --batch 32 --epochs 100 --name $dataset/results --data $dataset/data.yaml --hyp hyp-rf100.yaml  --weights 'yolov5s.pt' |& tee $dataset/logs2.txt\n",
    "\n",
    "# Test 3\n",
    "size = int(file* 0.7)\n",
    "delete(dir_path)\n",
    "train_new(size, train_image_folder, selected_train_folder, train_label_folder)\n",
    "!python train.py --img 640 --batch 32 --epochs 100 --name $dataset/results --data $dataset/data.yaml --hyp hyp-rf100.yaml  --weights 'yolov5s.pt' |& tee $dataset/logs3.txt\n",
    "\n",
    "# Test 4\n",
    "size = int(file)\n",
    "delete(dir_path)\n",
    "train_new(size, train_image_folder, selected_train_folder, train_label_folder)\n",
    "!python train.py --img 640 --batch 32 --epochs 100 --name $dataset/results --data $dataset/data.yaml --hyp hyp-rf100.yaml  --weights 'yolov5s.pt' |& tee $dataset/logs4.txt\n",
    "\n",
    "!python val.py --img 640 --task test --data $dataset/data.yaml --weights $dataset/results/weights/best.pt --name  $dataset --exist-ok |& tee $dataset/val_eval.txt\n",
    "!python val.py --img 640 --task test --data $dataset/data.yaml --weights $dataset/results2/weights/best.pt --name  $dataset --exist-ok |& tee $dataset/val_eval2.txt\n",
    "!python val.py --img 640 --task test --data $dataset/data.yaml --weights $dataset/results3/weights/best.pt --name  $dataset --exist-ok |& tee $dataset/val_eval3.txt\n",
    "!python val.py --img 640 --task test --data $dataset/data.yaml --weights $dataset/results4/weights/best.pt --name  $dataset --exist-ok |& tee $dataset/val_eval4.txt"
   ],
   "metadata": {
    "collapsed": false,
    "pycharm": {
     "is_executing": true
    }
   }
  },
  {
   "cell_type": "markdown",
   "source": [
    "## Plastic"
   ],
   "metadata": {
    "collapsed": false
   }
  },
  {
   "cell_type": "code",
   "execution_count": null,
   "id": "9630a05e-4905-4da7-aa10-fce0e96a4373",
   "metadata": {
    "execution": {
     "iopub.execute_input": "2023-05-24T16:21:30.919369Z",
     "iopub.status.busy": "2023-05-24T16:21:30.918992Z"
    },
    "pycharm": {
     "is_executing": true
    }
   },
   "outputs": [],
   "source": [
    "!pip install albumentations --quiet\n",
    "%cd yolov5\n",
    "\n",
    "import random\n",
    "random.seed(736720)\n",
    "\n",
    "dataset=\"DATA PATH\"\n",
    "\n",
    "# TRAIN\n",
    "batch_size = 48\n",
    "epochs_size = 300\n",
    "!python train.py --img 640 --batch batch_size --epochs epoch_size --name $dataset/results --data $dataset/data.yaml --hyp hyp-plastic.yaml --weights 'yolov5s.pt' |& tee $dataset/logs_NEW_48_300.txt\n",
    "\n",
    "# Test\n",
    "!python val.py --img 640 --batch 48 --task test --data $dataset/data.yaml --weights $dataset/results/weights/best.pt --name  $dataset --exist-ok |& tee $dataset/val_eval.txt"
   ]
  }
 ],
 "metadata": {
  "kernelspec": {
   "display_name": "Python 3 (ipykernel)",
   "language": "python",
   "name": "python3"
  },
  "language_info": {
   "codemirror_mode": {
    "name": "ipython",
    "version": 3
   },
   "file_extension": ".py",
   "mimetype": "text/x-python",
   "name": "python",
   "nbconvert_exporter": "python",
   "pygments_lexer": "ipython3",
   "version": "3.9.16"
  }
 },
 "nbformat": 4,
 "nbformat_minor": 5
}
